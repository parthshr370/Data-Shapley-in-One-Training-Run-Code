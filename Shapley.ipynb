{
  "nbformat": 4,
  "nbformat_minor": 0,
  "metadata": {
    "colab": {
      "provenance": []
    },
    "kernelspec": {
      "name": "python3",
      "display_name": "Python 3"
    },
    "language_info": {
      "name": "python"
    }
  },
  "cells": [
    {
      "cell_type": "code",
      "source": [
        "!pip install shap"
      ],
      "metadata": {
        "colab": {
          "base_uri": "https://localhost:8080/"
        },
        "id": "Pj57KTPHqDvU",
        "outputId": "87883c76-ed72-4023-a855-19a4f2ece72a"
      },
      "execution_count": 2,
      "outputs": [
        {
          "output_type": "stream",
          "name": "stdout",
          "text": [
            "Requirement already satisfied: shap in /usr/local/lib/python3.10/dist-packages (0.46.0)\n",
            "Requirement already satisfied: numpy in /usr/local/lib/python3.10/dist-packages (from shap) (1.26.4)\n",
            "Requirement already satisfied: scipy in /usr/local/lib/python3.10/dist-packages (from shap) (1.13.1)\n",
            "Requirement already satisfied: scikit-learn in /usr/local/lib/python3.10/dist-packages (from shap) (1.6.0)\n",
            "Requirement already satisfied: pandas in /usr/local/lib/python3.10/dist-packages (from shap) (2.2.2)\n",
            "Requirement already satisfied: tqdm>=4.27.0 in /usr/local/lib/python3.10/dist-packages (from shap) (4.67.1)\n",
            "Requirement already satisfied: packaging>20.9 in /usr/local/lib/python3.10/dist-packages (from shap) (24.2)\n",
            "Requirement already satisfied: slicer==0.0.8 in /usr/local/lib/python3.10/dist-packages (from shap) (0.0.8)\n",
            "Requirement already satisfied: numba in /usr/local/lib/python3.10/dist-packages (from shap) (0.60.0)\n",
            "Requirement already satisfied: cloudpickle in /usr/local/lib/python3.10/dist-packages (from shap) (3.1.0)\n",
            "Requirement already satisfied: llvmlite<0.44,>=0.43.0dev0 in /usr/local/lib/python3.10/dist-packages (from numba->shap) (0.43.0)\n",
            "Requirement already satisfied: python-dateutil>=2.8.2 in /usr/local/lib/python3.10/dist-packages (from pandas->shap) (2.8.2)\n",
            "Requirement already satisfied: pytz>=2020.1 in /usr/local/lib/python3.10/dist-packages (from pandas->shap) (2024.2)\n",
            "Requirement already satisfied: tzdata>=2022.7 in /usr/local/lib/python3.10/dist-packages (from pandas->shap) (2024.2)\n",
            "Requirement already satisfied: joblib>=1.2.0 in /usr/local/lib/python3.10/dist-packages (from scikit-learn->shap) (1.4.2)\n",
            "Requirement already satisfied: threadpoolctl>=3.1.0 in /usr/local/lib/python3.10/dist-packages (from scikit-learn->shap) (3.5.0)\n",
            "Requirement already satisfied: six>=1.5 in /usr/local/lib/python3.10/dist-packages (from python-dateutil>=2.8.2->pandas->shap) (1.17.0)\n"
          ]
        }
      ]
    },
    {
      "cell_type": "code",
      "execution_count": 3,
      "metadata": {
        "id": "sZkwLkvepsaE"
      },
      "outputs": [],
      "source": [
        "import torch\n",
        "import torchvision\n",
        "import torch.nn as nn\n",
        "from torchvision import transforms\n",
        "import numpy as np\n",
        "import shap\n",
        "from torch.utils.data import DataLoader, Subset"
      ]
    },
    {
      "cell_type": "code",
      "source": [
        "np.random.seed(0)\n",
        "torch.manual_seed(0)"
      ],
      "metadata": {
        "id": "yafOL_ecqCwa",
        "colab": {
          "base_uri": "https://localhost:8080/"
        },
        "outputId": "52ae4020-bc0a-40e8-9ce5-def437199ec2"
      },
      "execution_count": 4,
      "outputs": [
        {
          "output_type": "execute_result",
          "data": {
            "text/plain": [
              "<torch._C.Generator at 0x7c4e2c7e72f0>"
            ]
          },
          "metadata": {},
          "execution_count": 4
        }
      ]
    },
    {
      "cell_type": "code",
      "source": [
        "# Define device and model parameters\n",
        "device = 'cpu'  # Options: 'cpu', 'cuda' (for GPU)\n",
        "batch_size = 200\n",
        "epochs = 5"
      ],
      "metadata": {
        "id": "yl4xLPIJQOks"
      },
      "execution_count": 5,
      "outputs": []
    },
    {
      "cell_type": "code",
      "source": [
        "# Define the neural network model, using a simple MLP for MNIST\n",
        "class MLP_MNIST(torch.nn.Module):\n",
        "    def __init__(self):\n",
        "        super(MLP_MNIST, self).__init__()\n",
        "        self.fc1 = torch.nn.Linear(28*28, 512)\n",
        "        self.fc2 = torch.nn.Linear(512, 10)\n",
        "\n",
        "    def forward(self, x):\n",
        "        x = torch.flatten(x, 1)\n",
        "        x = torch.relu(self.fc1(x))\n",
        "        x = self.fc2(x)\n",
        "        return x"
      ],
      "metadata": {
        "id": "QrzObFalAfWr"
      },
      "execution_count": 6,
      "outputs": []
    },
    {
      "cell_type": "code",
      "source": [
        "from typing_extensions import Self\n",
        "\n",
        "# added softmax\n",
        "# converts them into soft probablity curve\n",
        "\n",
        "\n",
        "class MLP_MNIST_Prob(torch.nn.Module):\n",
        "    def __init__(self, base_model):\n",
        "        super(MLP_MNIST_Prob, self).__init__()\n",
        "        self.base_model = base_model  # your original MLP_MNIST\n",
        "\n",
        "    def forward(self, x):\n",
        "        logits = self.base_model(x)\n",
        "        probs = F.softmax(logits, dim=1)  # convert to probabilities\n",
        "        return probs"
      ],
      "metadata": {
        "id": "Ux-IBAJ6RcD3"
      },
      "execution_count": 7,
      "outputs": []
    },
    {
      "cell_type": "markdown",
      "source": [
        "model def and other things def"
      ],
      "metadata": {
        "id": "vn3unuZnPqoK"
      }
    },
    {
      "cell_type": "code",
      "source": [
        "import torch.nn.functional as F\n",
        "model = MLP_MNIST().to(device)\n",
        "model_probs = MLP_MNIST_Prob(model).to(device)  # Wrap original trained model"
      ],
      "metadata": {
        "id": "I7qMbyIBZFOE"
      },
      "execution_count": 8,
      "outputs": []
    },
    {
      "cell_type": "markdown",
      "source": [
        "dont forget the the optims and the loss"
      ],
      "metadata": {
        "id": "JvSxEomvPtF_"
      }
    },
    {
      "cell_type": "code",
      "source": [
        "optimizer = torch.optim.Adam(model.parameters())\n",
        "loss_fn = torch.nn.CrossEntropyLoss()"
      ],
      "metadata": {
        "id": "jx5qnh4Dc1Uc"
      },
      "execution_count": 9,
      "outputs": []
    },
    {
      "cell_type": "markdown",
      "source": [
        "download the MNIST data"
      ],
      "metadata": {
        "id": "tbguHUhLPwBj"
      }
    },
    {
      "cell_type": "code",
      "source": [
        "train_dataset = torchvision.datasets.MNIST(root='./data', train=True, download=True, transform=transforms.ToTensor())\n",
        "test_dataset = torchvision.datasets.MNIST(root='./data', train=False, download=True, transform=transforms.ToTensor())"
      ],
      "metadata": {
        "id": "mkkOEG3JdBKZ",
        "colab": {
          "base_uri": "https://localhost:8080/"
        },
        "outputId": "edac2204-f8c2-43b9-fa6f-9707183871f0"
      },
      "execution_count": 10,
      "outputs": [
        {
          "output_type": "stream",
          "name": "stdout",
          "text": [
            "Downloading http://yann.lecun.com/exdb/mnist/train-images-idx3-ubyte.gz\n",
            "Failed to download (trying next):\n",
            "HTTP Error 403: Forbidden\n",
            "\n",
            "Downloading https://ossci-datasets.s3.amazonaws.com/mnist/train-images-idx3-ubyte.gz\n",
            "Downloading https://ossci-datasets.s3.amazonaws.com/mnist/train-images-idx3-ubyte.gz to ./data/MNIST/raw/train-images-idx3-ubyte.gz\n"
          ]
        },
        {
          "output_type": "stream",
          "name": "stderr",
          "text": [
            "100%|██████████| 9.91M/9.91M [00:00<00:00, 42.4MB/s]\n"
          ]
        },
        {
          "output_type": "stream",
          "name": "stdout",
          "text": [
            "Extracting ./data/MNIST/raw/train-images-idx3-ubyte.gz to ./data/MNIST/raw\n",
            "\n",
            "Downloading http://yann.lecun.com/exdb/mnist/train-labels-idx1-ubyte.gz\n",
            "Failed to download (trying next):\n",
            "HTTP Error 403: Forbidden\n",
            "\n",
            "Downloading https://ossci-datasets.s3.amazonaws.com/mnist/train-labels-idx1-ubyte.gz\n",
            "Downloading https://ossci-datasets.s3.amazonaws.com/mnist/train-labels-idx1-ubyte.gz to ./data/MNIST/raw/train-labels-idx1-ubyte.gz\n"
          ]
        },
        {
          "output_type": "stream",
          "name": "stderr",
          "text": [
            "100%|██████████| 28.9k/28.9k [00:00<00:00, 1.46MB/s]\n"
          ]
        },
        {
          "output_type": "stream",
          "name": "stdout",
          "text": [
            "Extracting ./data/MNIST/raw/train-labels-idx1-ubyte.gz to ./data/MNIST/raw\n",
            "\n",
            "Downloading http://yann.lecun.com/exdb/mnist/t10k-images-idx3-ubyte.gz\n",
            "Failed to download (trying next):\n",
            "HTTP Error 403: Forbidden\n",
            "\n",
            "Downloading https://ossci-datasets.s3.amazonaws.com/mnist/t10k-images-idx3-ubyte.gz\n",
            "Downloading https://ossci-datasets.s3.amazonaws.com/mnist/t10k-images-idx3-ubyte.gz to ./data/MNIST/raw/t10k-images-idx3-ubyte.gz\n"
          ]
        },
        {
          "output_type": "stream",
          "name": "stderr",
          "text": [
            "100%|██████████| 1.65M/1.65M [00:00<00:00, 10.9MB/s]\n"
          ]
        },
        {
          "output_type": "stream",
          "name": "stdout",
          "text": [
            "Extracting ./data/MNIST/raw/t10k-images-idx3-ubyte.gz to ./data/MNIST/raw\n",
            "\n",
            "Downloading http://yann.lecun.com/exdb/mnist/t10k-labels-idx1-ubyte.gz\n",
            "Failed to download (trying next):\n",
            "HTTP Error 403: Forbidden\n",
            "\n",
            "Downloading https://ossci-datasets.s3.amazonaws.com/mnist/t10k-labels-idx1-ubyte.gz\n",
            "Downloading https://ossci-datasets.s3.amazonaws.com/mnist/t10k-labels-idx1-ubyte.gz to ./data/MNIST/raw/t10k-labels-idx1-ubyte.gz\n"
          ]
        },
        {
          "output_type": "stream",
          "name": "stderr",
          "text": [
            "100%|██████████| 4.54k/4.54k [00:00<00:00, 3.64MB/s]"
          ]
        },
        {
          "output_type": "stream",
          "name": "stdout",
          "text": [
            "Extracting ./data/MNIST/raw/t10k-labels-idx1-ubyte.gz to ./data/MNIST/raw\n",
            "\n"
          ]
        },
        {
          "output_type": "stream",
          "name": "stderr",
          "text": [
            "\n"
          ]
        }
      ]
    },
    {
      "cell_type": "markdown",
      "source": [
        "train and test oh shit"
      ],
      "metadata": {
        "id": "bcIyLfHTPynm"
      }
    },
    {
      "cell_type": "code",
      "source": [
        "train_loader = DataLoader(train_dataset, batch_size=batch_size, shuffle=True)\n",
        "test_loader = DataLoader(test_dataset, batch_size=batch_size, shuffle=False)"
      ],
      "metadata": {
        "id": "_iVy-TTIdEgw"
      },
      "execution_count": 11,
      "outputs": []
    },
    {
      "cell_type": "markdown",
      "source": [
        "training loop"
      ],
      "metadata": {
        "id": "-8-xBz42P1ew"
      }
    },
    {
      "cell_type": "code",
      "source": [
        "# Train the model (simplified training loop with logs for demonstration)\n",
        "for epoch in range(epochs):\n",
        "    model.train()\n",
        "    total_loss = 0\n",
        "    for data, target in train_loader:\n",
        "        data, target = data.to(device), target.to(device)\n",
        "        optimizer.zero_grad()\n",
        "        output = model(data)\n",
        "        loss = loss_fn(output, target)\n",
        "        loss.backward()\n",
        "        optimizer.step()\n",
        "        total_loss += loss.item()  # Summing loss for averaging later\n",
        "    print(f\"Epoch {epoch+1}, Average Loss: {total_loss / len(train_loader)}\")"
      ],
      "metadata": {
        "colab": {
          "base_uri": "https://localhost:8080/"
        },
        "id": "UOUvSoBJd0-n",
        "outputId": "d093cd4a-7574-4e6e-fd5b-866d842bb4fe"
      },
      "execution_count": 12,
      "outputs": [
        {
          "output_type": "stream",
          "name": "stdout",
          "text": [
            "Epoch 1, Average Loss: 0.3609732197225094\n",
            "Epoch 2, Average Loss: 0.15076458789408206\n",
            "Epoch 3, Average Loss: 0.09985638581216336\n",
            "Epoch 4, Average Loss: 0.07359100867062807\n",
            "Epoch 5, Average Loss: 0.05559881423289577\n"
          ]
        }
      ]
    },
    {
      "cell_type": "markdown",
      "source": [
        "In practice, SHAP picks or averages across one or more baseline samples (the background data) to estimate how the model behaves when a particular feature is “missing” (or replaced by a baseline/average value) vs. when it is present at its actual value in the data point you want to explain."
      ],
      "metadata": {
        "id": "Ri_Qs1EVieOZ"
      }
    },
    {
      "cell_type": "markdown",
      "source": [
        "The background data usually comes from a subset of the training data (or another representative dataset) to reflect the model’s typical inputs.\n",
        "For images, these samples often represent an average or “typical” distribution of pixel values. For tabular data, these samples represent typical feature values."
      ],
      "metadata": {
        "id": "9TL_1OaYijA9"
      }
    },
    {
      "cell_type": "code",
      "source": [
        "# Select a subset of data for Shapley value computation\n",
        "background_data = Subset(train_dataset, indices=np.random.choice(len(train_dataset), 1000, replace=False))\n",
        "background_loader = DataLoader(background_data, batch_size=1, shuffle=True)"
      ],
      "metadata": {
        "id": "3qnTJgsxd8HE"
      },
      "execution_count": 13,
      "outputs": []
    },
    {
      "cell_type": "markdown",
      "source": [
        "sample cuz we cant handle the whole thing"
      ],
      "metadata": {
        "id": "ZiNOORigQvRM"
      }
    },
    {
      "cell_type": "code",
      "source": [
        "# Create a background dataset for Deep SHAP\n",
        "background_samples = torch.cat([data[0].unsqueeze(0) for data, _ in background_loader], 0).to(device)"
      ],
      "metadata": {
        "id": "0K8WmsEffmvR"
      },
      "execution_count": 14,
      "outputs": []
    },
    {
      "cell_type": "code",
      "source": [],
      "metadata": {
        "id": "CPVjs4m5SbPk"
      },
      "execution_count": 14,
      "outputs": []
    },
    {
      "cell_type": "code",
      "source": [
        "\n",
        "# Initialize SHAP Deep Explainer\n",
        "e = shap.DeepExplainer(model_probs, background_samples)\n",
        "\n",
        "\n",
        "data_point, _ = next(iter(test_loader))  # Get a batch from the test loader\n",
        "data_point = data_point.to(device)       # move data to the appropriate device\n",
        "data_point = data_point[0:1]             # Select the first example from the batch"
      ],
      "metadata": {
        "id": "kmXTA5XqkYSN"
      },
      "execution_count": 15,
      "outputs": []
    },
    {
      "cell_type": "code",
      "source": [
        "# Option to choose between DeepExplainer and GradientExplainer\n",
        "try:\n",
        "    e = shap.DeepExplainer(model_probs, background_samples)\n",
        "    shap_values = e.shap_values(data_point)\n",
        "except AssertionError as error:\n",
        "    print(\"Switching to GradientExplainer due to error:\", error)\n",
        "    e = shap.GradientExplainer(model, background_samples)\n",
        "    shap_values = e.shap_values(data_point)\n",
        "\n",
        "\n",
        "# Adjust the shape of the data point for visualization\n",
        "data_point = data_point.squeeze()  #"
      ],
      "metadata": {
        "id": "BUQt6xiIkfX3",
        "colab": {
          "base_uri": "https://localhost:8080/"
        },
        "outputId": "7c696c25-8625-449f-b614-f0054f233f2c"
      },
      "execution_count": 16,
      "outputs": [
        {
          "output_type": "stream",
          "name": "stdout",
          "text": [
            "Switching to GradientExplainer due to error: The SHAP explanations do not sum up to the model's output! This is either because of a rounding error or because an operator in your computation graph was not fully supported. If the sum difference of %f is significant compared to the scale of your model outputs, please post as a github issue, with a reproducible example so we can debug it. Used framework: pytorch - Max. diff: 0.11429014255535921 - Tolerance: 0.01\n"
          ]
        }
      ]
    },
    {
      "cell_type": "code",
      "source": [
        "# ensure data_point is reshaped correctly for grayscale visualization\n",
        "if data_point.ndim == 3:\n",
        "    data_point = data_point.permute(1, 2, 0)  # Convert from [C, H, W] to [H, W, C] if needed\n",
        "\n",
        "# Check and adjust dimensions for shap_values if necessary\n",
        "shap_values = [sv.squeeze() for sv in shap_values]  # Remove unnecessary batch dimension"
      ],
      "metadata": {
        "id": "bU0UMKbikh2d"
      },
      "execution_count": 17,
      "outputs": []
    },
    {
      "cell_type": "code",
      "source": [
        "shap.image_plot(shap_values, -data_point.cpu().numpy())"
      ],
      "metadata": {
        "id": "iO6-pklakkHn",
        "colab": {
          "base_uri": "https://localhost:8080/",
          "height": 364
        },
        "outputId": "06f6027e-6874-4c83-e0fe-a4c3674e1b31"
      },
      "execution_count": 18,
      "outputs": [
        {
          "output_type": "display_data",
          "data": {
            "text/plain": [
              "<Figure size 600x500 with 3 Axes>"
            ],
            "image/png": "[encoded data removed]"
          },
          "metadata": {}
        }
      ]
    },
    {
      "cell_type": "markdown",
      "source": [
        "A heatmap of SHAP values indicating how each pixel influences the model’s prediction.\n",
        "\n",
        "**Positive (Red) Regions:** Pixels that push the model’s output toward the predicted class. Think of them as strong “evidence” in favor of the classification (here, a ‘7’).\n",
        "\n",
        "\n",
        "\n",
        "**Negative (Blue) Regions:** Pixels that push the model’s output away from the predicted class. These areas, if changed, would make the model less likely to predict the digit as a ‘7’."
      ],
      "metadata": {
        "id": "lCL3fOI9dStE"
      }
    },
    {
      "cell_type": "markdown",
      "source": [
        "# In Run Data Shapley"
      ],
      "metadata": {
        "id": "hNiwbROuUiG7"
      }
    },
    {
      "cell_type": "markdown",
      "source": [
        "## Reloading the previous model -"
      ],
      "metadata": {
        "id": "ta7AKbi_p9G1"
      }
    },
    {
      "cell_type": "code",
      "source": [
        "import torch.optim as optim\n",
        "device = 'cuda' if torch.cuda.is_available() else 'cpu'\n",
        "torch.manual_seed(0)\n",
        "np.random.seed(0)\n",
        "\n",
        "class MLP_MNIST(nn.Module):\n",
        "    def __init__(self):\n",
        "        super(MLP_MNIST, self).__init__()\n",
        "        self.fc1 = nn.Linear(28*28, 256)\n",
        "        self.relu = nn.ReLU()\n",
        "        self.fc2 = nn.Linear(256, 10)\n",
        "\n",
        "    def forward(self, x):\n",
        "        x = x.view(x.size(0), -1)  # Flatten\n",
        "        x = self.relu(self.fc1(x))\n",
        "        x = self.fc2(x)\n",
        "        return x\n",
        "\n",
        "# Instantiate model, loss, optimizer\n",
        "model = MLP_MNIST().to(device)\n",
        "loss_fn = nn.CrossEntropyLoss()\n",
        "optimizer = optim.SGD(model.parameters(), lr=0.01)"
      ],
      "metadata": {
        "id": "ptVkxlsEp_aP"
      },
      "execution_count": 19,
      "outputs": []
    },
    {
      "cell_type": "code",
      "source": [
        "transform = transforms.ToTensor()\n",
        "train_dataset = torchvision.datasets.MNIST(root='./data', train=True,\n",
        "                                           transform=transform, download=True)\n",
        "val_dataset = torchvision.datasets.MNIST(root='./data', train=False,\n",
        "                                         transform=transform, download=True)\n"
      ],
      "metadata": {
        "id": "W5cvk9OvNx1x"
      },
      "execution_count": 20,
      "outputs": []
    },
    {
      "cell_type": "code",
      "source": [
        "\n",
        "batch_size = 64\n",
        "train_loader = DataLoader(train_dataset, batch_size=batch_size, shuffle=True)\n",
        "# Just pick a small subset of validation data for the demonstration\n",
        "val_loader = DataLoader(val_dataset, batch_size=1, shuffle=True)\n",
        "val_data_iter = iter(val_loader)\n",
        "# chosing the validation samples in the dataset\n",
        "val_img, val_label = next(val_data_iter)\n",
        "val_img, val_label = val_img.to(device), val_label.to(device)"
      ],
      "metadata": {
        "id": "rIYhJZW_pqpZ"
      },
      "execution_count": 22,
      "outputs": []
    },
    {
      "cell_type": "markdown",
      "source": [
        "data_shapley_scores[i] will hold the in-run shapley score for\n",
        "the i-th sample in the entire train_dataset (index i in train_dataset)"
      ],
      "metadata": {
        "id": "t87CUB4bpxM3"
      }
    },
    {
      "cell_type": "code",
      "source": [
        "data_shapley_scores = torch.zeros(len(train_dataset), device=device) # initiate an empty array\n",
        "\n",
        "\n",
        "epochs = 1\n",
        "global_step= 0"
      ],
      "metadata": {
        "id": "yqqZIdTVpszB"
      },
      "execution_count": 27,
      "outputs": []
    },
    {
      "cell_type": "markdown",
      "source": [
        "This dot product is a first-order approximation of how much the loss on the validation sample changes when a training sample is used to update the parameters."
      ],
      "metadata": {
        "id": "x0DL2m5jsADN"
      }
    },
    {
      "cell_type": "markdown",
      "source": [
        "We do one forward pass on the batch+val, and one backward pass. During this pass, we use hooks to capture:\n",
        "\n",
        "    Each sample’s input xixi​ arriving at the layer (a forward hook).\n",
        "    Each sample’s output gradient δiδi​ leaving the layer (a backward hook)."
      ],
      "metadata": {
        "id": "kOYirmyyqIdA"
      }
    },
    {
      "cell_type": "markdown",
      "source": [
        "Hooks in pytorch are basically capturing information from point to point\n",
        "\n",
        "we apply hook after we pass values thorugh logits\n",
        "and we do while backprop"
      ],
      "metadata": {
        "id": "x50u1gb7qd9q"
      }
    },
    {
      "cell_type": "code",
      "source": [
        "# ------------------------------------------\n",
        "# 4. Training Loop with In-Run Data Shapley\n",
        "# ------------------------------------------\n",
        "model.train()\n",
        "for epoch in range(epochs):\n",
        "    for batch_idx, (images, labels) in enumerate(train_loader):\n",
        "        images, labels = images.to(device), labels.to(device)\n",
        "\n",
        "\n",
        "\n",
        "        # We create a combined batch:\n",
        "        #   1) the normal training batch\n",
        "        #   2) plus the single validation sample\n",
        "        # to do \"ghost dot-products\" in ONE pass.\n",
        "        # creates a 1D array to combine the images and validation set hence making it ghost dot product\n",
        "\n",
        "        combined_imgs = torch.cat([images, val_img], dim=0)\n",
        "        combined_labels = torch.cat([labels, val_label], dim=0)\n",
        "\n",
        "    # Compute the loss on the combined set\n",
        "        logits = model(combined_imgs) #\n",
        "        train_batch_size = images.size(0)\n",
        "\n",
        "    # The first part of logits is training data, the last part is for val data\n",
        "        loss_train = loss_fn(logits[:train_batch_size], labels)\n",
        "        loss_val   = loss_fn(logits[train_batch_size:], val_label)\n",
        "\n",
        "        # Combined loss (we sum them so that backprop will let us\n",
        "        # access both training-sample gradients and val-sample gradient)\n",
        "        combined_loss = loss_train + loss_val\n",
        "\n",
        "\n",
        "\n",
        "# Ghost dot product for backward pass\n",
        "        optimizer.zero_grad()\n",
        "        combined_loss.backward(retain_graph=True) # retain graph since we need more of the backprop later on\n",
        "\n",
        "        saved_state = {} # save the current sate\n",
        "\n",
        "\n",
        "# We store the current gradients (which are for train+val) in saved_state.\n",
        "        for name, param in model.named_parameters():\n",
        "            if param.grad is not None:\n",
        "                # save param.grad clone for later use\n",
        "                saved_state[name] = param.grad.detach().clone()\n",
        "\n",
        "\n",
        "\n",
        "# zero the model gradient\n",
        "# only use val for back/forward pass\n",
        "        optimizer.zero_grad()\n",
        "        logits_val_only = model(val_img)\n",
        "        loss_val_only = loss_fn(logits_val_only, val_label)\n",
        "        loss_val_only.backward(create_graph=False)  # single-sample gradient\n",
        "        grad_val = {}\n",
        "        for name, param in model.named_parameters():\n",
        "            if param.grad is not None:\n",
        "                grad_val[name] = param.grad.detach().clone()\n",
        "\n",
        "\n",
        "\n",
        "        # restore the combined grad from saved_state\n",
        "        for name, param in model.named_parameters():\n",
        "            if name in saved_state:\n",
        "                param.grad = saved_state[name] # now when it is in param save it to saved_state\n",
        "\n",
        "\n",
        "        # Now let's compute the \"dot product\" for each sample in the train batch:\n",
        "        for i in range(train_batch_size):\n",
        "            # zero grad\n",
        "            param_zero = {}\n",
        "            for name, param in model.named_parameters():\n",
        "                if param.grad is not None:\n",
        "                    param.grad.zero_()\n",
        "\n",
        "            # backward on just the i-th example in the train batch\n",
        "            single_logit = model(images[i].unsqueeze(0))\n",
        "            single_loss = loss_fn(single_logit, labels[i].unsqueeze(0))\n",
        "            single_loss.backward()\n",
        "\n",
        "            # read off dot-product with grad_val\n",
        "            dot_val = 0.0\n",
        "            for name, param in model.named_parameters():\n",
        "                if param.grad is not None and name in grad_val:\n",
        "                    # flatten both param.grad and grad_val[name]\n",
        "                    dot_val += (param.grad.view(-1) * grad_val[name].view(-1)).sum()\n",
        "\n",
        "            # Add to data_shapley_scores\n",
        "            idx_in_full_dataset = batch_idx*batch_size + i  # approximate global index\n",
        "            data_shapley_scores[idx_in_full_dataset] += -0.01 * dot_val.item() # mul by lr to scale back things\n",
        "\n",
        "\n",
        "            # We used lr=0.01 -> so multiply by -lr. Negative sign because the loss change is -( grad_val · grad_train_i ).\n",
        "\n",
        "# Final logging\n",
        "\n",
        "        optimizer.step()\n",
        "\n",
        "        global_step += 1\n",
        "        if batch_idx % 100 == 0:\n",
        "            print(f\"Epoch {epoch}, Step {batch_idx}, combined_loss = {combined_loss.item():.4f}\")\n"
      ],
      "metadata": {
        "id": "hPoiGXPiqbep",
        "colab": {
          "base_uri": "https://localhost:8080/"
        },
        "outputId": "dec64ddc-d75d-43e1-f39f-16097ece0705"
      },
      "execution_count": 32,
      "outputs": [
        {
          "output_type": "stream",
          "name": "stdout",
          "text": [
            "Epoch 0, Step 0, combined_loss = 3.2223\n",
            "Epoch 0, Step 100, combined_loss = 5.5803\n",
            "Epoch 0, Step 200, combined_loss = 1.4972\n",
            "Epoch 0, Step 300, combined_loss = 2.8802\n",
            "Epoch 0, Step 400, combined_loss = 0.9619\n",
            "Epoch 0, Step 500, combined_loss = 2.4942\n",
            "Epoch 0, Step 600, combined_loss = 2.7236\n",
            "Epoch 0, Step 700, combined_loss = 5.3820\n",
            "Epoch 0, Step 800, combined_loss = 2.8438\n",
            "Epoch 0, Step 900, combined_loss = 2.2997\n"
          ]
        }
      ]
    },
    {
      "cell_type": "markdown",
      "source": [
        "Why Is This “Ghost”?\n",
        "\n",
        "    We never explicitly built a huge per-sample gradient tensor. Instead, we stored only a few intermediate tensors (xi(l)xi(l)​ and δi(l)δi(l)​ for each sample).\n",
        "\n",
        "    this helps us store info on the fly"
      ],
      "metadata": {
        "id": "T7abmfXLq45t"
      }
    },
    {
      "cell_type": "code",
      "source": [
        "print(\"In-Run Data Shapley (first-order approx) computed for each training sample.\")\n",
        "print(\"data_shapley_scores shape:\", data_shapley_scores.shape)"
      ],
      "metadata": {
        "colab": {
          "base_uri": "https://localhost:8080/"
        },
        "id": "GiAzc9Nom4hv",
        "outputId": "7e92b5ce-af6d-4603-8316-6edd7f3bf880"
      },
      "execution_count": 34,
      "outputs": [
        {
          "output_type": "stream",
          "name": "stdout",
          "text": [
            "In-Run Data Shapley (first-order approx) computed for each training sample.\n",
            "data_shapley_scores shape: torch.Size([60000])\n"
          ]
        }
      ]
    },
    {
      "cell_type": "markdown",
      "source": [
        "- For each training example, you are estimating a “first-order approximation” of how much that example contributes (positively or negatively) to reducing the validation sample’s loss.\n",
        "\n",
        "- By the end, you’ll have data_shapley_scores[i] telling you whether sample i is beneficial (a positive contribution reduces validation loss) or detrimental (a negative contribution might increase validation loss).\n"
      ],
      "metadata": {
        "id": "bzpaM4x0rTrM"
      }
    },
    {
      "cell_type": "markdown",
      "source": [
        "# What more to do\n",
        "\n",
        "1. plot the contribution graph over time to segregate positive and negative contribution on this\n",
        "2. maybe remove the negative ones and see how that affects performance\n",
        "\n",
        "\n",
        "\n",
        "# ALSO -\n",
        "\n",
        "- Dynamic Re-weighting: Use the Shapley scores as dynamic “weights” for each training sample in the objective, so that negative contributors are downweighted in real time.\n",
        "\n",
        "- Curriculum Learning: Potentially design a curriculum where you first train on high-contribution samples, then gradually introduce lower-contribution samples.\n",
        "\n",
        "- Subset Selection: If you have a very large dataset, you might only train on the subset of samples with the highest Shapley contribution, speeding up training but still achieving good performance on your validation set."
      ],
      "metadata": {
        "id": "CHDWopuzrfxY"
      }
    },
    {
      "cell_type": "code",
      "source": [
        "# Maybe some sorting\n",
        "\n",
        "\n",
        "import torch\n",
        "\n",
        "sorted_shite = torch.argsort(data_shapley_scores)\n",
        "\n",
        "print(\"HIghest shapley scores\")\n",
        "for rank in range(10):\n",
        "    idx = sorted_shite[rank].item()        # index in the dataset\n",
        "    val = data_shapley_scores[idx].item()    # Shapley score\n",
        "    print(f\"Rank {rank+1:2d} | Sample Index: {idx:5d} | Score: {val:.4f}\")\n",
        "\n",
        "\n",
        "\n",
        "print(\"Lowest shapley scores\")\n",
        "for rank in range(10):\n",
        "    idx = sorted_shite[-(rank+1)].item()   # index from the end\n",
        "    val = data_shapley_scores[idx].item()    # Shapley score\n",
        "    print(f\"Rank {rank+1:2d} | Sample Index: {idx:5d} | Score: {val:.4f}\")\n"
      ],
      "metadata": {
        "colab": {
          "base_uri": "https://localhost:8080/"
        },
        "id": "ctTjv_P8pNKk",
        "outputId": "0f2149c9-2146-4220-858a-830648addf04"
      },
      "execution_count": 36,
      "outputs": [
        {
          "output_type": "stream",
          "name": "stdout",
          "text": [
            "HIghest shapley scores\n",
            "Rank  1 | Sample Index: 46542 | Score: -3.9043\n",
            "Rank  2 | Sample Index: 48812 | Score: -3.8358\n",
            "Rank  3 | Sample Index: 39066 | Score: -3.7442\n",
            "Rank  4 | Sample Index:  7147 | Score: -3.6062\n",
            "Rank  5 | Sample Index: 49441 | Score: -3.5339\n",
            "Rank  6 | Sample Index: 44791 | Score: -3.5203\n",
            "Rank  7 | Sample Index: 45104 | Score: -3.4897\n",
            "Rank  8 | Sample Index: 35108 | Score: -3.4149\n",
            "Rank  9 | Sample Index: 43943 | Score: -3.4097\n",
            "Rank 10 | Sample Index: 51668 | Score: -3.4073\n",
            "Lowest shapley scores\n",
            "Rank  1 | Sample Index: 34313 | Score: 2.5663\n",
            "Rank  2 | Sample Index: 59127 | Score: 2.4685\n",
            "Rank  3 | Sample Index: 55037 | Score: 2.4204\n",
            "Rank  4 | Sample Index: 27612 | Score: 2.3866\n",
            "Rank  5 | Sample Index: 27596 | Score: 2.3051\n",
            "Rank  6 | Sample Index: 51275 | Score: 2.2888\n",
            "Rank  7 | Sample Index: 52996 | Score: 2.2684\n",
            "Rank  8 | Sample Index: 29027 | Score: 2.2673\n",
            "Rank  9 | Sample Index: 45182 | Score: 2.1143\n",
            "Rank 10 | Sample Index: 50776 | Score: 2.0524\n"
          ]
        }
      ]
    },
    {
      "cell_type": "code",
      "source": [],
      "metadata": {
        "id": "gVGGNrADtEvE"
      },
      "execution_count": null,
      "outputs": []
    }
  ]
}